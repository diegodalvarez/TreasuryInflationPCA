{
 "cells": [
  {
   "cell_type": "code",
   "execution_count": 1,
   "id": "388ac4b7-1756-4fdc-a220-89066be751e3",
   "metadata": {},
   "outputs": [],
   "source": [
    "import os\n",
    "import sys\n",
    "import numpy as np\n",
    "import pandas as pd\n",
    "import seaborn as sns\n",
    "import matplotlib.pyplot as plt\n",
    "\n",
    "import statsmodels.api as sm"
   ]
  },
  {
   "cell_type": "code",
   "execution_count": 2,
   "id": "8ed921e6-5c48-4699-ad09-4adde60f8c8c",
   "metadata": {},
   "outputs": [],
   "source": [
    "sys.path.append(r\"C:\\Users\\Diego\\Desktop\\app_prod\\research\\TreasuryInflationPCA\\root\\src\")\n",
    "sys.path.append(r\"/Users/diegoalvarez/Desktop/research/TreasuryInflationPCA/root/src\")\n",
    "from PCSpreadOLS import PCASpreadOLS"
   ]
  },
  {
   "cell_type": "code",
   "execution_count": 4,
   "id": "e8b3efc3-6bf1-45ee-bb22-2f7b21039cfd",
   "metadata": {},
   "outputs": [
    {
     "ename": "AttributeError",
     "evalue": "'PCASpreadOLS' object has no attribute 'get_log_pca'",
     "output_type": "error",
     "traceback": [
      "\u001b[1;31m---------------------------------------------------------------------------\u001b[0m",
      "\u001b[1;31mAttributeError\u001b[0m                            Traceback (most recent call last)",
      "\u001b[1;32m~\\AppData\\Local\\Temp/ipykernel_25940/114260869.py\u001b[0m in \u001b[0;36m<module>\u001b[1;34m\u001b[0m\n\u001b[0;32m      3\u001b[0m     [[\"date\", \"security\", \"PX_bps\"]])\n\u001b[0;32m      4\u001b[0m \u001b[1;33m\u001b[0m\u001b[0m\n\u001b[1;32m----> 5\u001b[1;33m \u001b[0mdf_raw\u001b[0m   \u001b[1;33m=\u001b[0m \u001b[0mPCASpreadOLS\u001b[0m\u001b[1;33m(\u001b[0m\u001b[1;33m)\u001b[0m\u001b[1;33m.\u001b[0m\u001b[0mget_log_pca\u001b[0m\u001b[1;33m(\u001b[0m\u001b[1;33m)\u001b[0m\u001b[1;33m\u001b[0m\u001b[1;33m\u001b[0m\u001b[0m\n\u001b[0m\u001b[0;32m      6\u001b[0m df_wider = (df_raw[\n\u001b[0;32m      7\u001b[0m     [\"date\", \"variable\", \"spread\"]].\n",
      "\u001b[1;31mAttributeError\u001b[0m: 'PCASpreadOLS' object has no attribute 'get_log_pca'"
     ]
    }
   ],
   "source": [
    "df_tsy = (PCASpreadOLS().get_tsy_fut().assign(\n",
    "    security = lambda x: x.security.str.split(\" \").str[0])\n",
    "    [[\"date\", \"security\", \"PX_bps\"]])\n",
    "\n",
    "df_raw   = PCASpreadOLS().get_log_pca()\n",
    "df_wider = (df_raw[\n",
    "    [\"date\", \"variable\", \"spread\"]].\n",
    "    pivot(index = \"date\", columns = \"variable\", values = \"spread\").\n",
    "    merge(right = df_tsy, how = \"inner\", on = [\"date\"]))"
   ]
  },
  {
   "cell_type": "code",
   "execution_count": 5,
   "id": "744ac4b8-a62c-49ce-bd30-7048637ba189",
   "metadata": {},
   "outputs": [
    {
     "ename": "NameError",
     "evalue": "name 'df_wider' is not defined",
     "output_type": "error",
     "traceback": [
      "\u001b[1;31m---------------------------------------------------------------------------\u001b[0m",
      "\u001b[1;31mNameError\u001b[0m                                 Traceback (most recent call last)",
      "\u001b[1;32m~\\AppData\\Local\\Temp/ipykernel_25940/3175259494.py\u001b[0m in \u001b[0;36m<module>\u001b[1;34m\u001b[0m\n\u001b[0;32m     14\u001b[0m     \u001b[1;32mreturn\u001b[0m \u001b[0mdf_out\u001b[0m\u001b[1;33m\u001b[0m\u001b[1;33m\u001b[0m\u001b[0m\n\u001b[0;32m     15\u001b[0m \u001b[1;33m\u001b[0m\u001b[0m\n\u001b[1;32m---> 16\u001b[1;33m df_rtn = (df_wider.groupby(\n\u001b[0m\u001b[0;32m     17\u001b[0m     \"security\").\n\u001b[0;32m     18\u001b[0m     \u001b[0mapply\u001b[0m\u001b[1;33m(\u001b[0m\u001b[0m_get_ols\u001b[0m\u001b[1;33m,\u001b[0m \u001b[0minclude_groups\u001b[0m \u001b[1;33m=\u001b[0m \u001b[1;32mFalse\u001b[0m\u001b[1;33m)\u001b[0m\u001b[1;33m.\u001b[0m\u001b[1;33m\u001b[0m\u001b[1;33m\u001b[0m\u001b[0m\n",
      "\u001b[1;31mNameError\u001b[0m: name 'df_wider' is not defined"
     ]
    }
   ],
   "source": [
    "def _get_ols(df: pd.DataFrame) -> pd.DataFrame: \n",
    "\n",
    "    df_tmp = df.set_index(\"date\")\n",
    "    df_out = (sm.OLS(\n",
    "        endog = df_tmp.PX_bps,\n",
    "        exog  = sm.add_constant(df_tmp.drop(columns = [\"PX_bps\"]))).\n",
    "        fit().\n",
    "        resid.\n",
    "        to_frame(name = \"resid\").\n",
    "        assign(lag_resid = lambda x: x.resid.shift()).\n",
    "        merge(right = df, how = \"inner\", on = [\"date\"]).\n",
    "        dropna())\n",
    "\n",
    "    return df_out\n",
    "\n",
    "df_rtn = (df_wider.groupby(\n",
    "    \"security\").\n",
    "    apply(_get_ols, include_groups = False).\n",
    "    reset_index().\n",
    "    drop(columns = [\"level_1\"]).\n",
    "    assign(signal_rtn = lambda x: - np.sign(x.lag_resid) * x.PX_bps))"
   ]
  },
  {
   "cell_type": "code",
   "execution_count": 6,
   "id": "bb26e9f0-b0a7-4499-b4b7-78dcd8137030",
   "metadata": {},
   "outputs": [
    {
     "ename": "NameError",
     "evalue": "name 'df_rtn' is not defined",
     "output_type": "error",
     "traceback": [
      "\u001b[1;31m---------------------------------------------------------------------------\u001b[0m",
      "\u001b[1;31mNameError\u001b[0m                                 Traceback (most recent call last)",
      "\u001b[1;32m~\\AppData\\Local\\Temp/ipykernel_25940/3307523710.py\u001b[0m in \u001b[0;36m<module>\u001b[1;34m\u001b[0m\n\u001b[1;32m----> 1\u001b[1;33m (df_rtn[\n\u001b[0m\u001b[0;32m      2\u001b[0m     [\"date\", \"security\", \"signal_rtn\"]].\n\u001b[0;32m      3\u001b[0m     \u001b[0mpivot\u001b[0m\u001b[1;33m(\u001b[0m\u001b[0mindex\u001b[0m \u001b[1;33m=\u001b[0m \u001b[1;34m\"date\"\u001b[0m\u001b[1;33m,\u001b[0m \u001b[0mcolumns\u001b[0m \u001b[1;33m=\u001b[0m \u001b[1;34m\"security\"\u001b[0m\u001b[1;33m,\u001b[0m \u001b[0mvalues\u001b[0m \u001b[1;33m=\u001b[0m \u001b[1;34m\"signal_rtn\"\u001b[0m\u001b[1;33m)\u001b[0m\u001b[1;33m.\u001b[0m\u001b[1;33m\u001b[0m\u001b[1;33m\u001b[0m\u001b[0m\n\u001b[0;32m      4\u001b[0m     \u001b[0mmean\u001b[0m\u001b[1;33m(\u001b[0m\u001b[0maxis\u001b[0m \u001b[1;33m=\u001b[0m \u001b[1;36m1\u001b[0m\u001b[1;33m)\u001b[0m\u001b[1;33m.\u001b[0m\u001b[1;33m\u001b[0m\u001b[1;33m\u001b[0m\u001b[0m\n\u001b[0;32m      5\u001b[0m     \u001b[0mcumsum\u001b[0m\u001b[1;33m(\u001b[0m\u001b[1;33m)\u001b[0m\u001b[1;33m.\u001b[0m\u001b[1;33m\u001b[0m\u001b[1;33m\u001b[0m\u001b[0m\n",
      "\u001b[1;31mNameError\u001b[0m: name 'df_rtn' is not defined"
     ]
    }
   ],
   "source": [
    "(df_rtn[\n",
    "    [\"date\", \"security\", \"signal_rtn\"]].\n",
    "    pivot(index = \"date\", columns = \"security\", values = \"signal_rtn\").\n",
    "    mean(axis = 1).\n",
    "    cumsum().\n",
    "    plot())"
   ]
  },
  {
   "cell_type": "code",
   "execution_count": null,
   "id": "03967ab7-ec5c-449c-8ead-4b489b3d6b0e",
   "metadata": {},
   "outputs": [],
   "source": []
  }
 ],
 "metadata": {
  "kernelspec": {
   "display_name": "Python 3 (ipykernel)",
   "language": "python",
   "name": "python3"
  },
  "language_info": {
   "codemirror_mode": {
    "name": "ipython",
    "version": 3
   },
   "file_extension": ".py",
   "mimetype": "text/x-python",
   "name": "python",
   "nbconvert_exporter": "python",
   "pygments_lexer": "ipython3",
   "version": "3.8.5"
  }
 },
 "nbformat": 4,
 "nbformat_minor": 5
}
