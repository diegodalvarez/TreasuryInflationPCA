{
 "cells": [
  {
   "cell_type": "code",
   "execution_count": 1,
   "id": "cbb1aa9c-85fe-4789-9250-3072c0d5f669",
   "metadata": {},
   "outputs": [],
   "source": [
    "import os\n",
    "import sys\n",
    "import numpy as np\n",
    "import pandas as pd\n",
    "import seaborn as sns\n",
    "import matplotlib.pyplot as plt\n",
    "\n",
    "import statsmodels.api as sm"
   ]
  },
  {
   "cell_type": "code",
   "execution_count": 2,
   "id": "afbee5ce-ab22-4733-8a8d-a9e17296b8e8",
   "metadata": {},
   "outputs": [],
   "source": [
    "sys.path.append(r\"C:\\Users\\Diego\\Desktop\\app_prod\\research\\TreasuryInflationPCA\\root\\src\")\n",
    "sys.path.append(r\"/Users/diegoalvarez/Desktop/research/TreasuryInflationPCA/root/src\")\n",
    "from PCSpreadOLS import PCASpreadOLS"
   ]
  },
  {
   "cell_type": "code",
   "execution_count": 3,
   "id": "3d1f23d3-d371-414b-8a93-5b619be7c575",
   "metadata": {},
   "outputs": [
    {
     "ename": "AttributeError",
     "evalue": "'PCASpreadOLS' object has no attribute 'full_sample_ols'",
     "output_type": "error",
     "traceback": [
      "\u001b[1;31m---------------------------------------------------------------------------\u001b[0m",
      "\u001b[1;31mAttributeError\u001b[0m                            Traceback (most recent call last)",
      "\u001b[1;32m~\\AppData\\Local\\Temp/ipykernel_16224/8116659.py\u001b[0m in \u001b[0;36m<module>\u001b[1;34m\u001b[0m\n\u001b[1;32m----> 1\u001b[1;33m \u001b[0mdf_rtn\u001b[0m \u001b[1;33m=\u001b[0m \u001b[0mPCASpreadOLS\u001b[0m\u001b[1;33m(\u001b[0m\u001b[1;33m)\u001b[0m\u001b[1;33m.\u001b[0m\u001b[0mfull_sample_ols\u001b[0m\u001b[1;33m(\u001b[0m\u001b[1;33m)\u001b[0m\u001b[1;33m\u001b[0m\u001b[1;33m\u001b[0m\u001b[0m\n\u001b[0m",
      "\u001b[1;31mAttributeError\u001b[0m: 'PCASpreadOLS' object has no attribute 'full_sample_ols'"
     ]
    }
   ],
   "source": [
    "df_rtn = PCASpreadOLS().full_sample_ols()"
   ]
  },
  {
   "cell_type": "code",
   "execution_count": null,
   "id": "9849b19a-ec7f-4772-bdaa-2e9fa539ae03",
   "metadata": {},
   "outputs": [],
   "source": [
    "def plot_sharpe(df_rtn: pd.DataFrame) -> plt.Figure: \n",
    "    \n",
    "    (df_rtn[\n",
    "        [\"security\", \"signal_rtn\"]].\n",
    "        groupby(\"security\").\n",
    "        agg([\"mean\", \"std\"])\n",
    "        [\"signal_rtn\"].\n",
    "        rename(columns = {\n",
    "            \"mean\": \"mean_rtn\",\n",
    "            \"std\" : \"std_rtn\"}).\n",
    "        assign(sharpe = lambda x: x.mean_rtn / x.std_rtn * np.sqrt(252)).\n",
    "        sort_values(\"sharpe\")\n",
    "        [[\"sharpe\"]].\n",
    "        plot(\n",
    "            kind    = \"bar\",\n",
    "            legend  = False,\n",
    "            title   = \"Annulized Strategy of Sharpes of PC Regression Model (Full Sample)\",\n",
    "            xlabel  = \"\",\n",
    "            ylabel  = \"Annualized Sharpe\",\n",
    "            figsize = (12,6)))\n",
    "    \n",
    "plot_sharpe(df_rtn)"
   ]
  },
  {
   "cell_type": "code",
   "execution_count": null,
   "id": "f0dc8d6b-d822-45eb-8093-7241a073ae62",
   "metadata": {},
   "outputs": [],
   "source": [
    "def plot_cumulative_rtn(df_rtn: pd.DataFrame) -> plt.Figure: \n",
    "    \n",
    "    (df_rtn[\n",
    "        [\"date\", \"security\", \"signal_rtn\"]].\n",
    "        rename(columns = {\"security\": \"\"}).\n",
    "        pivot(index = \"date\", columns = \"\", values = \"signal_rtn\").\n",
    "        cumsum().\n",
    "        plot(\n",
    "            figsize = (12,6),\n",
    "            ylabel = \"Cumualtive Basis Points\",\n",
    "            title  = \"Cumulative Returns of Full Sample OLS PC Model From {} to {}\".format(\n",
    "                df_rtn.date.min().date(),\n",
    "                df_rtn.date.max().date())))\n",
    "\n",
    "    plt.tight_layout()\n",
    "    \n",
    "plot_cumulative_rtn(df_rtn)"
   ]
  },
  {
   "cell_type": "code",
   "execution_count": null,
   "id": "ea12f6e2-0361-4024-8652-eea09f4e66e5",
   "metadata": {},
   "outputs": [],
   "source": [
    "def get_erc(df_rtn: pd.DataFrame, window: int = 30) -> pd.DataFrame: \n",
    "\n",
    "    df_wider = (df_rtn[\n",
    "        [\"date\", \"signal_rtn\", \"security\"]].\n",
    "        pivot(index = \"date\", columns = \"security\", values = \"signal_rtn\").\n",
    "        ewm(span = window, adjust = False).\n",
    "        std().\n",
    "        shift().\n",
    "        apply(lambda x: 1 / x).\n",
    "        reset_index().\n",
    "        melt(id_vars = \"date\").\n",
    "        dropna())\n",
    "\n",
    "    df_cum = (df_wider.drop(\n",
    "        columns = [\"security\"]).\n",
    "        groupby(\"date\").\n",
    "        agg(\"sum\").\n",
    "        rename(columns = {\"value\": \"cum_inv\"}))\n",
    "\n",
    "    df_port = (df_wider.merge(\n",
    "        right = df_cum, how = \"inner\", on = [\"date\"]).\n",
    "        assign(weight = lambda x: x.value / x.cum_inv).\n",
    "        merge(right = df_rtn, how = \"inner\", on = [\"date\", \"security\"]).\n",
    "        assign(weighted_rtn = lambda x: x.weight * x.signal_rtn)\n",
    "        [[\"date\", \"weighted_rtn\"]].\n",
    "        groupby(\"date\").\n",
    "        agg(\"sum\"))\n",
    "    \n",
    "    return df_port\n",
    "\n",
    "df_port = get_erc(df_rtn)"
   ]
  },
  {
   "cell_type": "code",
   "execution_count": null,
   "id": "8a327369-93f3-4b6d-b40b-7ade744de2ce",
   "metadata": {},
   "outputs": [],
   "source": [
    "def plot_erc_port(df_port: pd.DataFrame) -> plt.Figure: \n",
    "    \n",
    "    (df_port.cumsum().plot(\n",
    "        ylabel  = \"Cumulative Basis Points\",\n",
    "        legend  = False,\n",
    "        figsize = (12,6),\n",
    "        title   = \"Cumulative Return of OLS Full Sample Model ERC Port from {} to {}\".format(\n",
    "            df_port.index.min().date(),\n",
    "            df_port.index.max().date())))\n",
    "    \n",
    "    plt.tight_layout()\n",
    "    \n",
    "plot_erc_port(df_port)"
   ]
  },
  {
   "cell_type": "code",
   "execution_count": null,
   "id": "2f303a0e-7458-45ee-adc9-0fdbe4cd4862",
   "metadata": {},
   "outputs": [],
   "source": []
  }
 ],
 "metadata": {
  "kernelspec": {
   "display_name": "Python 3 (ipykernel)",
   "language": "python",
   "name": "python3"
  },
  "language_info": {
   "codemirror_mode": {
    "name": "ipython",
    "version": 3
   },
   "file_extension": ".py",
   "mimetype": "text/x-python",
   "name": "python",
   "nbconvert_exporter": "python",
   "pygments_lexer": "ipython3",
   "version": "3.8.5"
  }
 },
 "nbformat": 4,
 "nbformat_minor": 5
}
